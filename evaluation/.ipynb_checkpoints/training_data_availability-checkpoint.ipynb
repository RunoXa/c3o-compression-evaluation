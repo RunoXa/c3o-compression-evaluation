{
 "cells": [
  {
   "cell_type": "markdown",
   "metadata": {},
   "source": [
    "# C3O Paper: Performance Models and Impact of Training Data Availability"
   ]
  },
  {
   "cell_type": "code",
   "execution_count": 1,
   "metadata": {},
   "outputs": [],
   "source": [
    "import sys\n",
    "sys.path.insert(0, '..')\n",
    "import collections\n",
    "\n",
    "import pandas as pd\n",
    "import numpy as np\n",
    "import matplotlib\n",
    "import matplotlib.pyplot as plt\n",
    "from sklearn.model_selection import train_test_split\n",
    "from sklearn.metrics import mean_absolute_percentage_error as MAPE\n",
    "from IPython.display import display, HTML\n",
    "from ipywidgets import IntProgress\n",
    "\n",
    "from RuntimePrediction.Predict import Predictor as C3OPredictor\n",
    "from RuntimePrediction.DefaultModels import (GradientBoosting as GB,\n",
    "                                             ErnestModel as EM)\n",
    "from RuntimePrediction.CustomModels import (BasicOptimisticModel as BOM,\n",
    "                                            OptimisticGradientBoosting as OGB)"
   ]
  },
  {
   "cell_type": "markdown",
   "metadata": {},
   "source": [
    "## Define Models"
   ]
  },
  {
   "cell_type": "code",
   "execution_count": 2,
   "metadata": {},
   "outputs": [],
   "source": [
    "Model = collections.namedtuple('Model', ['name', 'predictor', 'kwargs'])\n",
    "\n",
    "models = [\n",
    "          Model('Ernest', EM, {}),\n",
    "          Model('GBM', GB, {}), \n",
    "          \n",
    "          Model('BOM', BOM, {}), \n",
    "          Model('OGB', OGB, {}), \n",
    "   \n",
    "          Model('C3O', C3OPredictor, {}),\n",
    "         ]"
   ]
  },
  {
   "cell_type": "markdown",
   "metadata": {},
   "source": [
    "## Extract Runtime Data"
   ]
  },
  {
   "cell_type": "code",
   "execution_count": 3,
   "metadata": {},
   "outputs": [],
   "source": [
    "sort_df = pd.read_csv('../data/sort.tsv', sep='\\t')\n",
    "grep_df = pd.read_csv('../data/grep.tsv', sep='\\t')\n",
    "sgd_df = pd.read_csv('../data/sgd.tsv', sep='\\t')\n",
    "kmeans_df = pd.read_csv('../data/kmeans.tsv', sep='\\t')\n",
    "pagerank_df = pd.read_csv('../data/pagerank.tsv', sep='\\t')"
   ]
  },
  {
   "cell_type": "code",
   "execution_count": 4,
   "metadata": {},
   "outputs": [],
   "source": [
    "Job = collections.namedtuple('Job', ['name', 'X', 'y'])\n",
    "\n",
    "def get_training_data(df, features, filters):\n",
    "    # Get medians\n",
    "    g = df.groupby(by=['instance_count','machine_type']+features)\n",
    "    df = pd.DataFrame(g.median().to_records())\n",
    "    # Apply filters \n",
    "    # e.g. only for one machine type each, the full c3o-experiments were conducted\n",
    "    # No full cartesian product!\n",
    "    for k, s, v in filters:\n",
    "        if s == '==': df = df[df[k] == v] \n",
    "        if s == '>' : df = df[df[k] >  v]\n",
    "    X = df[['instance_count'] + features]\n",
    "    y = (df[['gross_runtime']]).squeeze()\n",
    "    return X, y\n",
    "\n",
    "td = get_training_data\n",
    "jobs = [\n",
    "    Job('Sort',\n",
    "        *(td(sort_df,\n",
    "            ['data_size_MB'],\n",
    "            [('machine_type', '==', 'c4.2xlarge'),\n",
    "             ('line_length', '==', 100)] )) ),\n",
    "    Job('Grep',\n",
    "        *(td(grep_df,\n",
    "            ['data_size_MB', 'p_occurrence'],\n",
    "            [('machine_type', '==', 'm4.2xlarge')] )) ),\n",
    "    Job('SGDLR',\n",
    "        *(td(sgd_df,\n",
    "            ['observations', 'features', 'iterations'],\n",
    "            [('machine_type', '==', 'r4.2xlarge'),\n",
    "             ('instance_count', '>', 2)] )) ),\n",
    "    Job('K-Means',\n",
    "        *(td(kmeans_df,\n",
    "            ['observations', 'features', 'k'],\n",
    "            [('machine_type', '==', 'r4.2xlarge'),\n",
    "             ('instance_count', '>', 2)] )) ),\n",
    "    Job('Page Rank',\n",
    "        *(td(pagerank_df,\n",
    "            ['links', 'pages', 'convergence_criterion'],\n",
    "            [('machine_type', '==', 'r4.2xlarge')] )) ),\n",
    "]"
   ]
  },
  {
   "cell_type": "markdown",
   "metadata": {},
   "source": [
    "## Train-Test Split Creations"
   ]
  },
  {
   "cell_type": "code",
   "execution_count": 5,
   "metadata": {},
   "outputs": [],
   "source": [
    "common_features = {'Grep': ['p_occurrence'],\n",
    "                   'SGDLR': ['iterations'],\n",
    "                   'K-Means': ['k'],\n",
    "                   'Page Rank': ['pages', 'convergence_criterion']}\n",
    "\n",
    "def get_groups(X, y, common_features):\n",
    "    # Get groups of observations that share the same value for certain features\n",
    "    Xy = X.merge(y, right_index=True, left_index=True)\n",
    "    grouped = Xy.groupby(by=common_features, as_index=True)\n",
    "    X_keys, y_keys = [k for k in Xy.keys() if k != 'gross_runtime'], ['gross_runtime']\n",
    "    Xs = [group[X_keys] for name, group in grouped]\n",
    "    ys = [group[y_keys].squeeze() for name, group in grouped]\n",
    "    return Xs, ys"
   ]
  },
  {
   "cell_type": "code",
   "execution_count": 6,
   "metadata": {},
   "outputs": [],
   "source": [
    "def create_partial_training_data(job, splits, availability=40):\n",
    "    # Availability of global training data: e.g. 40 or 1.0 (all)\n",
    "    for _ in range(splits):\n",
    "        yield train_test_split(job.X,job.y,train_size=availability)"
   ]
  },
  {
   "cell_type": "markdown",
   "metadata": {},
   "source": [
    "## Evaluate Models on the Training Datasets"
   ]
  },
  {
   "cell_type": "code",
   "execution_count": 7,
   "metadata": {},
   "outputs": [
    {
     "data": {
      "text/html": [
       "<style>      .output {flex-direction: row; flex-wrap: wrap}      div.output_subarea {padding-left: 0mm; padding-right:3mm}      </style>"
      ],
      "text/plain": [
       "<IPython.core.display.HTML object>"
      ]
     },
     "execution_count": 7,
     "metadata": {},
     "output_type": "execute_result"
    }
   ],
   "source": [
    "# Display tables side by side and get rid of horizontal scroll bar under tables\n",
    "HTML('''<style> \\\n",
    "     .output {flex-direction: row; flex-wrap: wrap} \\\n",
    "     div.output_subarea {padding-left: 0mm; padding-right:3mm} \\\n",
    "     </style>''')"
   ]
  },
  {
   "cell_type": "code",
   "execution_count": 8,
   "metadata": {},
   "outputs": [],
   "source": [
    "def display_evaluation_counts(job_name):\n",
    "    \n",
    "    try: results = pd.read_csv('availability_results.csv', header=None)\n",
    "    except: display(HTML(f\"<h3>{job_name}</h3> None\")); return\n",
    "    \n",
    "    rres = [(job, model, ds, round(float(mape),4)) for job, model, ds, mape in results.values]\n",
    "    df = pd.DataFrame(rres, columns = ('Job', 'Model', 'Dataset', 'MAPE'))\n",
    "    groups = df.groupby(by=['Job', 'Model', 'Dataset'], as_index=False)\n",
    "    amounts = [(*group_key, len(instances)) for group_key, instances in groups]\n",
    "    df = pd.DataFrame(amounts, columns=('Job', 'Model', 'Dataset', 'Amount'))\n",
    "    \n",
    "    # Filter info for just the job we are interested in\n",
    "    jobdf = df[df['Job'] == job_name].set_index(['Model', 'Dataset'])[['Amount']].unstack()\n",
    "    # Remove redundant info\n",
    "    columns = (list(map(lambda x: x[1], jobdf.columns)))  # Puts global and local in order\n",
    "    displaydf = pd.DataFrame(jobdf.values, index=jobdf.index, columns=columns)    \n",
    "    \n",
    "    # axis=None for whole table\n",
    "    try: table_html = displaydf.style._repr_html_()\n",
    "    except: table_html = \"None\"\n",
    "    \n",
    "    display(HTML(f\"<h3>{job_name}</h3>\" + table_html ))"
   ]
  },
  {
   "cell_type": "markdown",
   "metadata": {},
   "source": [
    "### Amount of Conducted Evaluation Experiments Thus Far"
   ]
  },
  {
   "cell_type": "code",
   "execution_count": 9,
   "metadata": {},
   "outputs": [
    {
     "data": {
      "text/html": [
       "<h3>Sort</h3> None"
      ],
      "text/plain": [
       "<IPython.core.display.HTML object>"
      ]
     },
     "metadata": {},
     "output_type": "display_data"
    },
    {
     "data": {
      "text/html": [
       "<h3>Grep</h3> None"
      ],
      "text/plain": [
       "<IPython.core.display.HTML object>"
      ]
     },
     "metadata": {},
     "output_type": "display_data"
    },
    {
     "data": {
      "text/html": [
       "<h3>SGDLR</h3> None"
      ],
      "text/plain": [
       "<IPython.core.display.HTML object>"
      ]
     },
     "metadata": {},
     "output_type": "display_data"
    },
    {
     "data": {
      "text/html": [
       "<h3>K-Means</h3> None"
      ],
      "text/plain": [
       "<IPython.core.display.HTML object>"
      ]
     },
     "metadata": {},
     "output_type": "display_data"
    },
    {
     "data": {
      "text/html": [
       "<h3>Page Rank</h3> None"
      ],
      "text/plain": [
       "<IPython.core.display.HTML object>"
      ]
     },
     "metadata": {},
     "output_type": "display_data"
    }
   ],
   "source": [
    "for job in jobs:\n",
    "    display_evaluation_counts(job.name)"
   ]
  },
  {
   "cell_type": "markdown",
   "metadata": {},
   "source": [
    "### Calculating the Model Prediction Errors"
   ]
  },
  {
   "cell_type": "code",
   "execution_count": 10,
   "metadata": {},
   "outputs": [],
   "source": [
    "def evaluate(model, X_train, X_test, y_train, y_test, error_metric):\n",
    "    model_instance = model.predictor(**model.kwargs)\n",
    "    model_instance.fit(X_train, y_train)\n",
    "    y_pred = model_instance.predict(X_test)\n",
    "    error = error_metric(y_test, y_pred)\n",
    "    return error"
   ]
  },
  {
   "cell_type": "code",
   "execution_count": 11,
   "metadata": {
    "scrolled": true
   },
   "outputs": [],
   "source": [
    "def create_new_availability_evaluations(amount):\n",
    "    availabilities = np.arange(3,33,3)\n",
    "    progress_bar = IntProgress(min=0, max=len(availabilities)*len(jobs)*amount); display(progress_bar)\n",
    "    with open('availability_results.csv', 'at') as f:\n",
    "        for availability in availabilities:\n",
    "            for job in jobs:\n",
    "                for split in create_partial_training_data(job, splits=amount, availability=availability):\n",
    "                    for model in models:\n",
    "                        error = evaluate(model, *split, MAPE)\n",
    "                        f.write(f\"{job.name},{model.name},{availability},{error}\\n\")\n",
    "                    progress_bar.value += 1\n"
   ]
  },
  {
   "cell_type": "markdown",
   "metadata": {},
   "source": [
    "### Conduct Additional Model Evaluation Experiments"
   ]
  },
  {
   "cell_type": "code",
   "execution_count": null,
   "metadata": {},
   "outputs": [
    {
     "data": {
      "application/vnd.jupyter.widget-view+json": {
       "model_id": "a0fed404b5fd47bfa2c1383cb964d5ec",
       "version_major": 2,
       "version_minor": 0
      },
      "text/plain": [
       "IntProgress(value=0, max=500)"
      ]
     },
     "metadata": {},
     "output_type": "display_data"
    }
   ],
   "source": [
    "create_new_availability_evaluations(amount=10)"
   ]
  },
  {
   "cell_type": "markdown",
   "metadata": {},
   "source": [
    "### Display the Results"
   ]
  },
  {
   "cell_type": "code",
   "execution_count": 1,
   "metadata": {},
   "outputs": [],
   "source": [
    "def read_results(job_name):\n",
    "    try: results = pd.read_csv('availability_results.csv', header=None)\n",
    "    except: return\n",
    "\n",
    "    rres = [(job, model, ds, float(mape)) for job, model, ds, mape in results.values]\n",
    "    df = pd.DataFrame(rres, columns = ('Job', 'Model', 'Training Data', 'MAPE'))\n",
    "    groups = df.groupby(by=['Job', 'Model', 'Training Data'], as_index=False)\n",
    "    df = groups.mean()\n",
    "    # Filter info for just the job we are interested in\n",
    "    jobdf = df[df['Job'] == job_name].set_index(['Model', 'Training Data'])\n",
    "    # Remove redundant info\n",
    "    return jobdf.unstack()['MAPE']\n",
    "\n",
    "def display_job_evaluation(job_name):\n",
    "    \n",
    "    try: displaydf = read_results(job_name)\n",
    "    except: display(HTML(f\"<h3>{job_name}</h3> None\")); return \n",
    "    \n",
    "    # Style the output to highlight the important information\n",
    "    def highlight_row_min(row):\n",
    "        return ['color: black' if cell == min(row) else 'color: dimgray' for cell in row]\n",
    "    \n",
    "    def highlight_min(data, color='aquamarine', bold=False):\n",
    "        # highlight the minimum in a Series or DataFrame\n",
    "        attr1 = f\"background-color: {color}\"\n",
    "        attr2 = f\"font-weight: {'bold' if bold else 'normal'}\"\n",
    "        if data.ndim == 1:  # Series from .apply(axis=0) or axis=1\n",
    "            is_min = data == data.min()\n",
    "            return [attr1 if v else '' for v in is_min]\n",
    "        else:  # from .apply(axis=None)\n",
    "            is_min = data == data.min().min()\n",
    "            return pd.DataFrame(np.where(is_min, attr2, ''),\n",
    "                                index=data.index, columns=data.columns)\n",
    "        \n",
    "    table_html = displaydf.style.apply(highlight_row_min,axis=1) \\\n",
    "                                .apply(highlight_min, axis=0, color='aquamarine') \\\n",
    "                                .apply(highlight_min, axis=None, bold=True) \\\n",
    "                                .format(\"{:.2%}\") \\\n",
    "                                ._repr_html_()\n",
    "    \n",
    "    display(HTML(f\"<h3>{job_name}</h3>\" + table_html ))"
   ]
  },
  {
   "cell_type": "markdown",
   "metadata": {},
   "source": [
    "### Performance of the C3O Predictor and its Constituent Models"
   ]
  },
  {
   "cell_type": "code",
   "execution_count": 2,
   "metadata": {},
   "outputs": [
    {
     "ename": "NameError",
     "evalue": "name 'jobs' is not defined",
     "output_type": "error",
     "traceback": [
      "\u001b[0;31m---------------------------------------------------------------------------\u001b[0m",
      "\u001b[0;31mNameError\u001b[0m                                 Traceback (most recent call last)",
      "\u001b[0;32m<ipython-input-2-0ecc3beda06a>\u001b[0m in \u001b[0;36m<module>\u001b[0;34m\u001b[0m\n\u001b[0;32m----> 1\u001b[0;31m \u001b[0;32mfor\u001b[0m \u001b[0mjob\u001b[0m \u001b[0;32min\u001b[0m \u001b[0mjobs\u001b[0m\u001b[0;34m:\u001b[0m\u001b[0;34m\u001b[0m\u001b[0;34m\u001b[0m\u001b[0m\n\u001b[0m\u001b[1;32m      2\u001b[0m     \u001b[0mdisplay_job_evaluation\u001b[0m\u001b[0;34m(\u001b[0m\u001b[0mjob\u001b[0m\u001b[0;34m.\u001b[0m\u001b[0mname\u001b[0m\u001b[0;34m)\u001b[0m\u001b[0;34m\u001b[0m\u001b[0;34m\u001b[0m\u001b[0m\n",
      "\u001b[0;31mNameError\u001b[0m: name 'jobs' is not defined"
     ]
    }
   ],
   "source": [
    "for job in jobs:\n",
    "    display_job_evaluation(job.name)"
   ]
  },
  {
   "cell_type": "markdown",
   "metadata": {},
   "source": [
    "### Updated Amount of Conducted Experiments per Evaluation Experiments Category"
   ]
  },
  {
   "cell_type": "code",
   "execution_count": 17,
   "metadata": {},
   "outputs": [
    {
     "data": {
      "text/html": [
       "<h3>Sort</h3><style  type=\"text/css\" >\n",
       "</style><table id=\"T_fdaa7cb8_f549_11eb_a890_c4b3018b0b8e\" ><thead>    <tr>        <th class=\"blank level0\" ></th>        <th class=\"col_heading level0 col0\" >3</th>        <th class=\"col_heading level0 col1\" >6</th>        <th class=\"col_heading level0 col2\" >9</th>        <th class=\"col_heading level0 col3\" >12</th>        <th class=\"col_heading level0 col4\" >15</th>        <th class=\"col_heading level0 col5\" >18</th>        <th class=\"col_heading level0 col6\" >21</th>        <th class=\"col_heading level0 col7\" >24</th>        <th class=\"col_heading level0 col8\" >27</th>        <th class=\"col_heading level0 col9\" >30</th>    </tr>    <tr>        <th class=\"index_name level0\" >Model</th>        <th class=\"blank\" ></th>        <th class=\"blank\" ></th>        <th class=\"blank\" ></th>        <th class=\"blank\" ></th>        <th class=\"blank\" ></th>        <th class=\"blank\" ></th>        <th class=\"blank\" ></th>        <th class=\"blank\" ></th>        <th class=\"blank\" ></th>        <th class=\"blank\" ></th>    </tr></thead><tbody>\n",
       "                <tr>\n",
       "                        <th id=\"T_fdaa7cb8_f549_11eb_a890_c4b3018b0b8elevel0_row0\" class=\"row_heading level0 row0\" >BOM</th>\n",
       "                        <td id=\"T_fdaa7cb8_f549_11eb_a890_c4b3018b0b8erow0_col0\" class=\"data row0 col0\" >10</td>\n",
       "                        <td id=\"T_fdaa7cb8_f549_11eb_a890_c4b3018b0b8erow0_col1\" class=\"data row0 col1\" >10</td>\n",
       "                        <td id=\"T_fdaa7cb8_f549_11eb_a890_c4b3018b0b8erow0_col2\" class=\"data row0 col2\" >10</td>\n",
       "                        <td id=\"T_fdaa7cb8_f549_11eb_a890_c4b3018b0b8erow0_col3\" class=\"data row0 col3\" >10</td>\n",
       "                        <td id=\"T_fdaa7cb8_f549_11eb_a890_c4b3018b0b8erow0_col4\" class=\"data row0 col4\" >10</td>\n",
       "                        <td id=\"T_fdaa7cb8_f549_11eb_a890_c4b3018b0b8erow0_col5\" class=\"data row0 col5\" >10</td>\n",
       "                        <td id=\"T_fdaa7cb8_f549_11eb_a890_c4b3018b0b8erow0_col6\" class=\"data row0 col6\" >10</td>\n",
       "                        <td id=\"T_fdaa7cb8_f549_11eb_a890_c4b3018b0b8erow0_col7\" class=\"data row0 col7\" >10</td>\n",
       "                        <td id=\"T_fdaa7cb8_f549_11eb_a890_c4b3018b0b8erow0_col8\" class=\"data row0 col8\" >10</td>\n",
       "                        <td id=\"T_fdaa7cb8_f549_11eb_a890_c4b3018b0b8erow0_col9\" class=\"data row0 col9\" >10</td>\n",
       "            </tr>\n",
       "            <tr>\n",
       "                        <th id=\"T_fdaa7cb8_f549_11eb_a890_c4b3018b0b8elevel0_row1\" class=\"row_heading level0 row1\" >C3O</th>\n",
       "                        <td id=\"T_fdaa7cb8_f549_11eb_a890_c4b3018b0b8erow1_col0\" class=\"data row1 col0\" >10</td>\n",
       "                        <td id=\"T_fdaa7cb8_f549_11eb_a890_c4b3018b0b8erow1_col1\" class=\"data row1 col1\" >10</td>\n",
       "                        <td id=\"T_fdaa7cb8_f549_11eb_a890_c4b3018b0b8erow1_col2\" class=\"data row1 col2\" >10</td>\n",
       "                        <td id=\"T_fdaa7cb8_f549_11eb_a890_c4b3018b0b8erow1_col3\" class=\"data row1 col3\" >10</td>\n",
       "                        <td id=\"T_fdaa7cb8_f549_11eb_a890_c4b3018b0b8erow1_col4\" class=\"data row1 col4\" >10</td>\n",
       "                        <td id=\"T_fdaa7cb8_f549_11eb_a890_c4b3018b0b8erow1_col5\" class=\"data row1 col5\" >10</td>\n",
       "                        <td id=\"T_fdaa7cb8_f549_11eb_a890_c4b3018b0b8erow1_col6\" class=\"data row1 col6\" >10</td>\n",
       "                        <td id=\"T_fdaa7cb8_f549_11eb_a890_c4b3018b0b8erow1_col7\" class=\"data row1 col7\" >10</td>\n",
       "                        <td id=\"T_fdaa7cb8_f549_11eb_a890_c4b3018b0b8erow1_col8\" class=\"data row1 col8\" >10</td>\n",
       "                        <td id=\"T_fdaa7cb8_f549_11eb_a890_c4b3018b0b8erow1_col9\" class=\"data row1 col9\" >10</td>\n",
       "            </tr>\n",
       "            <tr>\n",
       "                        <th id=\"T_fdaa7cb8_f549_11eb_a890_c4b3018b0b8elevel0_row2\" class=\"row_heading level0 row2\" >Ernest</th>\n",
       "                        <td id=\"T_fdaa7cb8_f549_11eb_a890_c4b3018b0b8erow2_col0\" class=\"data row2 col0\" >10</td>\n",
       "                        <td id=\"T_fdaa7cb8_f549_11eb_a890_c4b3018b0b8erow2_col1\" class=\"data row2 col1\" >10</td>\n",
       "                        <td id=\"T_fdaa7cb8_f549_11eb_a890_c4b3018b0b8erow2_col2\" class=\"data row2 col2\" >10</td>\n",
       "                        <td id=\"T_fdaa7cb8_f549_11eb_a890_c4b3018b0b8erow2_col3\" class=\"data row2 col3\" >10</td>\n",
       "                        <td id=\"T_fdaa7cb8_f549_11eb_a890_c4b3018b0b8erow2_col4\" class=\"data row2 col4\" >10</td>\n",
       "                        <td id=\"T_fdaa7cb8_f549_11eb_a890_c4b3018b0b8erow2_col5\" class=\"data row2 col5\" >10</td>\n",
       "                        <td id=\"T_fdaa7cb8_f549_11eb_a890_c4b3018b0b8erow2_col6\" class=\"data row2 col6\" >10</td>\n",
       "                        <td id=\"T_fdaa7cb8_f549_11eb_a890_c4b3018b0b8erow2_col7\" class=\"data row2 col7\" >10</td>\n",
       "                        <td id=\"T_fdaa7cb8_f549_11eb_a890_c4b3018b0b8erow2_col8\" class=\"data row2 col8\" >10</td>\n",
       "                        <td id=\"T_fdaa7cb8_f549_11eb_a890_c4b3018b0b8erow2_col9\" class=\"data row2 col9\" >10</td>\n",
       "            </tr>\n",
       "            <tr>\n",
       "                        <th id=\"T_fdaa7cb8_f549_11eb_a890_c4b3018b0b8elevel0_row3\" class=\"row_heading level0 row3\" >GBM</th>\n",
       "                        <td id=\"T_fdaa7cb8_f549_11eb_a890_c4b3018b0b8erow3_col0\" class=\"data row3 col0\" >10</td>\n",
       "                        <td id=\"T_fdaa7cb8_f549_11eb_a890_c4b3018b0b8erow3_col1\" class=\"data row3 col1\" >10</td>\n",
       "                        <td id=\"T_fdaa7cb8_f549_11eb_a890_c4b3018b0b8erow3_col2\" class=\"data row3 col2\" >10</td>\n",
       "                        <td id=\"T_fdaa7cb8_f549_11eb_a890_c4b3018b0b8erow3_col3\" class=\"data row3 col3\" >10</td>\n",
       "                        <td id=\"T_fdaa7cb8_f549_11eb_a890_c4b3018b0b8erow3_col4\" class=\"data row3 col4\" >10</td>\n",
       "                        <td id=\"T_fdaa7cb8_f549_11eb_a890_c4b3018b0b8erow3_col5\" class=\"data row3 col5\" >10</td>\n",
       "                        <td id=\"T_fdaa7cb8_f549_11eb_a890_c4b3018b0b8erow3_col6\" class=\"data row3 col6\" >10</td>\n",
       "                        <td id=\"T_fdaa7cb8_f549_11eb_a890_c4b3018b0b8erow3_col7\" class=\"data row3 col7\" >10</td>\n",
       "                        <td id=\"T_fdaa7cb8_f549_11eb_a890_c4b3018b0b8erow3_col8\" class=\"data row3 col8\" >10</td>\n",
       "                        <td id=\"T_fdaa7cb8_f549_11eb_a890_c4b3018b0b8erow3_col9\" class=\"data row3 col9\" >10</td>\n",
       "            </tr>\n",
       "            <tr>\n",
       "                        <th id=\"T_fdaa7cb8_f549_11eb_a890_c4b3018b0b8elevel0_row4\" class=\"row_heading level0 row4\" >OGB</th>\n",
       "                        <td id=\"T_fdaa7cb8_f549_11eb_a890_c4b3018b0b8erow4_col0\" class=\"data row4 col0\" >10</td>\n",
       "                        <td id=\"T_fdaa7cb8_f549_11eb_a890_c4b3018b0b8erow4_col1\" class=\"data row4 col1\" >10</td>\n",
       "                        <td id=\"T_fdaa7cb8_f549_11eb_a890_c4b3018b0b8erow4_col2\" class=\"data row4 col2\" >10</td>\n",
       "                        <td id=\"T_fdaa7cb8_f549_11eb_a890_c4b3018b0b8erow4_col3\" class=\"data row4 col3\" >10</td>\n",
       "                        <td id=\"T_fdaa7cb8_f549_11eb_a890_c4b3018b0b8erow4_col4\" class=\"data row4 col4\" >10</td>\n",
       "                        <td id=\"T_fdaa7cb8_f549_11eb_a890_c4b3018b0b8erow4_col5\" class=\"data row4 col5\" >10</td>\n",
       "                        <td id=\"T_fdaa7cb8_f549_11eb_a890_c4b3018b0b8erow4_col6\" class=\"data row4 col6\" >10</td>\n",
       "                        <td id=\"T_fdaa7cb8_f549_11eb_a890_c4b3018b0b8erow4_col7\" class=\"data row4 col7\" >10</td>\n",
       "                        <td id=\"T_fdaa7cb8_f549_11eb_a890_c4b3018b0b8erow4_col8\" class=\"data row4 col8\" >10</td>\n",
       "                        <td id=\"T_fdaa7cb8_f549_11eb_a890_c4b3018b0b8erow4_col9\" class=\"data row4 col9\" >10</td>\n",
       "            </tr>\n",
       "    </tbody></table>"
      ],
      "text/plain": [
       "<IPython.core.display.HTML object>"
      ]
     },
     "metadata": {},
     "output_type": "display_data"
    },
    {
     "data": {
      "text/html": [
       "<h3>Grep</h3><style  type=\"text/css\" >\n",
       "</style><table id=\"T_fdb7c846_f549_11eb_a890_c4b3018b0b8e\" ><thead>    <tr>        <th class=\"blank level0\" ></th>        <th class=\"col_heading level0 col0\" >3</th>        <th class=\"col_heading level0 col1\" >6</th>        <th class=\"col_heading level0 col2\" >9</th>        <th class=\"col_heading level0 col3\" >12</th>        <th class=\"col_heading level0 col4\" >15</th>        <th class=\"col_heading level0 col5\" >18</th>        <th class=\"col_heading level0 col6\" >21</th>        <th class=\"col_heading level0 col7\" >24</th>        <th class=\"col_heading level0 col8\" >27</th>        <th class=\"col_heading level0 col9\" >30</th>    </tr>    <tr>        <th class=\"index_name level0\" >Model</th>        <th class=\"blank\" ></th>        <th class=\"blank\" ></th>        <th class=\"blank\" ></th>        <th class=\"blank\" ></th>        <th class=\"blank\" ></th>        <th class=\"blank\" ></th>        <th class=\"blank\" ></th>        <th class=\"blank\" ></th>        <th class=\"blank\" ></th>        <th class=\"blank\" ></th>    </tr></thead><tbody>\n",
       "                <tr>\n",
       "                        <th id=\"T_fdb7c846_f549_11eb_a890_c4b3018b0b8elevel0_row0\" class=\"row_heading level0 row0\" >BOM</th>\n",
       "                        <td id=\"T_fdb7c846_f549_11eb_a890_c4b3018b0b8erow0_col0\" class=\"data row0 col0\" >10</td>\n",
       "                        <td id=\"T_fdb7c846_f549_11eb_a890_c4b3018b0b8erow0_col1\" class=\"data row0 col1\" >10</td>\n",
       "                        <td id=\"T_fdb7c846_f549_11eb_a890_c4b3018b0b8erow0_col2\" class=\"data row0 col2\" >10</td>\n",
       "                        <td id=\"T_fdb7c846_f549_11eb_a890_c4b3018b0b8erow0_col3\" class=\"data row0 col3\" >10</td>\n",
       "                        <td id=\"T_fdb7c846_f549_11eb_a890_c4b3018b0b8erow0_col4\" class=\"data row0 col4\" >10</td>\n",
       "                        <td id=\"T_fdb7c846_f549_11eb_a890_c4b3018b0b8erow0_col5\" class=\"data row0 col5\" >10</td>\n",
       "                        <td id=\"T_fdb7c846_f549_11eb_a890_c4b3018b0b8erow0_col6\" class=\"data row0 col6\" >10</td>\n",
       "                        <td id=\"T_fdb7c846_f549_11eb_a890_c4b3018b0b8erow0_col7\" class=\"data row0 col7\" >10</td>\n",
       "                        <td id=\"T_fdb7c846_f549_11eb_a890_c4b3018b0b8erow0_col8\" class=\"data row0 col8\" >10</td>\n",
       "                        <td id=\"T_fdb7c846_f549_11eb_a890_c4b3018b0b8erow0_col9\" class=\"data row0 col9\" >10</td>\n",
       "            </tr>\n",
       "            <tr>\n",
       "                        <th id=\"T_fdb7c846_f549_11eb_a890_c4b3018b0b8elevel0_row1\" class=\"row_heading level0 row1\" >C3O</th>\n",
       "                        <td id=\"T_fdb7c846_f549_11eb_a890_c4b3018b0b8erow1_col0\" class=\"data row1 col0\" >10</td>\n",
       "                        <td id=\"T_fdb7c846_f549_11eb_a890_c4b3018b0b8erow1_col1\" class=\"data row1 col1\" >10</td>\n",
       "                        <td id=\"T_fdb7c846_f549_11eb_a890_c4b3018b0b8erow1_col2\" class=\"data row1 col2\" >10</td>\n",
       "                        <td id=\"T_fdb7c846_f549_11eb_a890_c4b3018b0b8erow1_col3\" class=\"data row1 col3\" >10</td>\n",
       "                        <td id=\"T_fdb7c846_f549_11eb_a890_c4b3018b0b8erow1_col4\" class=\"data row1 col4\" >10</td>\n",
       "                        <td id=\"T_fdb7c846_f549_11eb_a890_c4b3018b0b8erow1_col5\" class=\"data row1 col5\" >10</td>\n",
       "                        <td id=\"T_fdb7c846_f549_11eb_a890_c4b3018b0b8erow1_col6\" class=\"data row1 col6\" >10</td>\n",
       "                        <td id=\"T_fdb7c846_f549_11eb_a890_c4b3018b0b8erow1_col7\" class=\"data row1 col7\" >10</td>\n",
       "                        <td id=\"T_fdb7c846_f549_11eb_a890_c4b3018b0b8erow1_col8\" class=\"data row1 col8\" >10</td>\n",
       "                        <td id=\"T_fdb7c846_f549_11eb_a890_c4b3018b0b8erow1_col9\" class=\"data row1 col9\" >10</td>\n",
       "            </tr>\n",
       "            <tr>\n",
       "                        <th id=\"T_fdb7c846_f549_11eb_a890_c4b3018b0b8elevel0_row2\" class=\"row_heading level0 row2\" >Ernest</th>\n",
       "                        <td id=\"T_fdb7c846_f549_11eb_a890_c4b3018b0b8erow2_col0\" class=\"data row2 col0\" >10</td>\n",
       "                        <td id=\"T_fdb7c846_f549_11eb_a890_c4b3018b0b8erow2_col1\" class=\"data row2 col1\" >10</td>\n",
       "                        <td id=\"T_fdb7c846_f549_11eb_a890_c4b3018b0b8erow2_col2\" class=\"data row2 col2\" >10</td>\n",
       "                        <td id=\"T_fdb7c846_f549_11eb_a890_c4b3018b0b8erow2_col3\" class=\"data row2 col3\" >10</td>\n",
       "                        <td id=\"T_fdb7c846_f549_11eb_a890_c4b3018b0b8erow2_col4\" class=\"data row2 col4\" >10</td>\n",
       "                        <td id=\"T_fdb7c846_f549_11eb_a890_c4b3018b0b8erow2_col5\" class=\"data row2 col5\" >10</td>\n",
       "                        <td id=\"T_fdb7c846_f549_11eb_a890_c4b3018b0b8erow2_col6\" class=\"data row2 col6\" >10</td>\n",
       "                        <td id=\"T_fdb7c846_f549_11eb_a890_c4b3018b0b8erow2_col7\" class=\"data row2 col7\" >10</td>\n",
       "                        <td id=\"T_fdb7c846_f549_11eb_a890_c4b3018b0b8erow2_col8\" class=\"data row2 col8\" >10</td>\n",
       "                        <td id=\"T_fdb7c846_f549_11eb_a890_c4b3018b0b8erow2_col9\" class=\"data row2 col9\" >10</td>\n",
       "            </tr>\n",
       "            <tr>\n",
       "                        <th id=\"T_fdb7c846_f549_11eb_a890_c4b3018b0b8elevel0_row3\" class=\"row_heading level0 row3\" >GBM</th>\n",
       "                        <td id=\"T_fdb7c846_f549_11eb_a890_c4b3018b0b8erow3_col0\" class=\"data row3 col0\" >10</td>\n",
       "                        <td id=\"T_fdb7c846_f549_11eb_a890_c4b3018b0b8erow3_col1\" class=\"data row3 col1\" >10</td>\n",
       "                        <td id=\"T_fdb7c846_f549_11eb_a890_c4b3018b0b8erow3_col2\" class=\"data row3 col2\" >10</td>\n",
       "                        <td id=\"T_fdb7c846_f549_11eb_a890_c4b3018b0b8erow3_col3\" class=\"data row3 col3\" >10</td>\n",
       "                        <td id=\"T_fdb7c846_f549_11eb_a890_c4b3018b0b8erow3_col4\" class=\"data row3 col4\" >10</td>\n",
       "                        <td id=\"T_fdb7c846_f549_11eb_a890_c4b3018b0b8erow3_col5\" class=\"data row3 col5\" >10</td>\n",
       "                        <td id=\"T_fdb7c846_f549_11eb_a890_c4b3018b0b8erow3_col6\" class=\"data row3 col6\" >10</td>\n",
       "                        <td id=\"T_fdb7c846_f549_11eb_a890_c4b3018b0b8erow3_col7\" class=\"data row3 col7\" >10</td>\n",
       "                        <td id=\"T_fdb7c846_f549_11eb_a890_c4b3018b0b8erow3_col8\" class=\"data row3 col8\" >10</td>\n",
       "                        <td id=\"T_fdb7c846_f549_11eb_a890_c4b3018b0b8erow3_col9\" class=\"data row3 col9\" >10</td>\n",
       "            </tr>\n",
       "            <tr>\n",
       "                        <th id=\"T_fdb7c846_f549_11eb_a890_c4b3018b0b8elevel0_row4\" class=\"row_heading level0 row4\" >OGB</th>\n",
       "                        <td id=\"T_fdb7c846_f549_11eb_a890_c4b3018b0b8erow4_col0\" class=\"data row4 col0\" >10</td>\n",
       "                        <td id=\"T_fdb7c846_f549_11eb_a890_c4b3018b0b8erow4_col1\" class=\"data row4 col1\" >10</td>\n",
       "                        <td id=\"T_fdb7c846_f549_11eb_a890_c4b3018b0b8erow4_col2\" class=\"data row4 col2\" >10</td>\n",
       "                        <td id=\"T_fdb7c846_f549_11eb_a890_c4b3018b0b8erow4_col3\" class=\"data row4 col3\" >10</td>\n",
       "                        <td id=\"T_fdb7c846_f549_11eb_a890_c4b3018b0b8erow4_col4\" class=\"data row4 col4\" >10</td>\n",
       "                        <td id=\"T_fdb7c846_f549_11eb_a890_c4b3018b0b8erow4_col5\" class=\"data row4 col5\" >10</td>\n",
       "                        <td id=\"T_fdb7c846_f549_11eb_a890_c4b3018b0b8erow4_col6\" class=\"data row4 col6\" >10</td>\n",
       "                        <td id=\"T_fdb7c846_f549_11eb_a890_c4b3018b0b8erow4_col7\" class=\"data row4 col7\" >10</td>\n",
       "                        <td id=\"T_fdb7c846_f549_11eb_a890_c4b3018b0b8erow4_col8\" class=\"data row4 col8\" >10</td>\n",
       "                        <td id=\"T_fdb7c846_f549_11eb_a890_c4b3018b0b8erow4_col9\" class=\"data row4 col9\" >10</td>\n",
       "            </tr>\n",
       "    </tbody></table>"
      ],
      "text/plain": [
       "<IPython.core.display.HTML object>"
      ]
     },
     "metadata": {},
     "output_type": "display_data"
    },
    {
     "data": {
      "text/html": [
       "<h3>SGDLR</h3><style  type=\"text/css\" >\n",
       "</style><table id=\"T_fdc58922_f549_11eb_a890_c4b3018b0b8e\" ><thead>    <tr>        <th class=\"blank level0\" ></th>        <th class=\"col_heading level0 col0\" >3</th>        <th class=\"col_heading level0 col1\" >6</th>        <th class=\"col_heading level0 col2\" >9</th>        <th class=\"col_heading level0 col3\" >12</th>        <th class=\"col_heading level0 col4\" >15</th>        <th class=\"col_heading level0 col5\" >18</th>        <th class=\"col_heading level0 col6\" >21</th>        <th class=\"col_heading level0 col7\" >24</th>        <th class=\"col_heading level0 col8\" >27</th>        <th class=\"col_heading level0 col9\" >30</th>    </tr>    <tr>        <th class=\"index_name level0\" >Model</th>        <th class=\"blank\" ></th>        <th class=\"blank\" ></th>        <th class=\"blank\" ></th>        <th class=\"blank\" ></th>        <th class=\"blank\" ></th>        <th class=\"blank\" ></th>        <th class=\"blank\" ></th>        <th class=\"blank\" ></th>        <th class=\"blank\" ></th>        <th class=\"blank\" ></th>    </tr></thead><tbody>\n",
       "                <tr>\n",
       "                        <th id=\"T_fdc58922_f549_11eb_a890_c4b3018b0b8elevel0_row0\" class=\"row_heading level0 row0\" >BOM</th>\n",
       "                        <td id=\"T_fdc58922_f549_11eb_a890_c4b3018b0b8erow0_col0\" class=\"data row0 col0\" >10</td>\n",
       "                        <td id=\"T_fdc58922_f549_11eb_a890_c4b3018b0b8erow0_col1\" class=\"data row0 col1\" >10</td>\n",
       "                        <td id=\"T_fdc58922_f549_11eb_a890_c4b3018b0b8erow0_col2\" class=\"data row0 col2\" >10</td>\n",
       "                        <td id=\"T_fdc58922_f549_11eb_a890_c4b3018b0b8erow0_col3\" class=\"data row0 col3\" >10</td>\n",
       "                        <td id=\"T_fdc58922_f549_11eb_a890_c4b3018b0b8erow0_col4\" class=\"data row0 col4\" >10</td>\n",
       "                        <td id=\"T_fdc58922_f549_11eb_a890_c4b3018b0b8erow0_col5\" class=\"data row0 col5\" >10</td>\n",
       "                        <td id=\"T_fdc58922_f549_11eb_a890_c4b3018b0b8erow0_col6\" class=\"data row0 col6\" >10</td>\n",
       "                        <td id=\"T_fdc58922_f549_11eb_a890_c4b3018b0b8erow0_col7\" class=\"data row0 col7\" >10</td>\n",
       "                        <td id=\"T_fdc58922_f549_11eb_a890_c4b3018b0b8erow0_col8\" class=\"data row0 col8\" >10</td>\n",
       "                        <td id=\"T_fdc58922_f549_11eb_a890_c4b3018b0b8erow0_col9\" class=\"data row0 col9\" >10</td>\n",
       "            </tr>\n",
       "            <tr>\n",
       "                        <th id=\"T_fdc58922_f549_11eb_a890_c4b3018b0b8elevel0_row1\" class=\"row_heading level0 row1\" >C3O</th>\n",
       "                        <td id=\"T_fdc58922_f549_11eb_a890_c4b3018b0b8erow1_col0\" class=\"data row1 col0\" >10</td>\n",
       "                        <td id=\"T_fdc58922_f549_11eb_a890_c4b3018b0b8erow1_col1\" class=\"data row1 col1\" >10</td>\n",
       "                        <td id=\"T_fdc58922_f549_11eb_a890_c4b3018b0b8erow1_col2\" class=\"data row1 col2\" >10</td>\n",
       "                        <td id=\"T_fdc58922_f549_11eb_a890_c4b3018b0b8erow1_col3\" class=\"data row1 col3\" >10</td>\n",
       "                        <td id=\"T_fdc58922_f549_11eb_a890_c4b3018b0b8erow1_col4\" class=\"data row1 col4\" >10</td>\n",
       "                        <td id=\"T_fdc58922_f549_11eb_a890_c4b3018b0b8erow1_col5\" class=\"data row1 col5\" >10</td>\n",
       "                        <td id=\"T_fdc58922_f549_11eb_a890_c4b3018b0b8erow1_col6\" class=\"data row1 col6\" >10</td>\n",
       "                        <td id=\"T_fdc58922_f549_11eb_a890_c4b3018b0b8erow1_col7\" class=\"data row1 col7\" >10</td>\n",
       "                        <td id=\"T_fdc58922_f549_11eb_a890_c4b3018b0b8erow1_col8\" class=\"data row1 col8\" >10</td>\n",
       "                        <td id=\"T_fdc58922_f549_11eb_a890_c4b3018b0b8erow1_col9\" class=\"data row1 col9\" >10</td>\n",
       "            </tr>\n",
       "            <tr>\n",
       "                        <th id=\"T_fdc58922_f549_11eb_a890_c4b3018b0b8elevel0_row2\" class=\"row_heading level0 row2\" >Ernest</th>\n",
       "                        <td id=\"T_fdc58922_f549_11eb_a890_c4b3018b0b8erow2_col0\" class=\"data row2 col0\" >10</td>\n",
       "                        <td id=\"T_fdc58922_f549_11eb_a890_c4b3018b0b8erow2_col1\" class=\"data row2 col1\" >10</td>\n",
       "                        <td id=\"T_fdc58922_f549_11eb_a890_c4b3018b0b8erow2_col2\" class=\"data row2 col2\" >10</td>\n",
       "                        <td id=\"T_fdc58922_f549_11eb_a890_c4b3018b0b8erow2_col3\" class=\"data row2 col3\" >10</td>\n",
       "                        <td id=\"T_fdc58922_f549_11eb_a890_c4b3018b0b8erow2_col4\" class=\"data row2 col4\" >10</td>\n",
       "                        <td id=\"T_fdc58922_f549_11eb_a890_c4b3018b0b8erow2_col5\" class=\"data row2 col5\" >10</td>\n",
       "                        <td id=\"T_fdc58922_f549_11eb_a890_c4b3018b0b8erow2_col6\" class=\"data row2 col6\" >10</td>\n",
       "                        <td id=\"T_fdc58922_f549_11eb_a890_c4b3018b0b8erow2_col7\" class=\"data row2 col7\" >10</td>\n",
       "                        <td id=\"T_fdc58922_f549_11eb_a890_c4b3018b0b8erow2_col8\" class=\"data row2 col8\" >10</td>\n",
       "                        <td id=\"T_fdc58922_f549_11eb_a890_c4b3018b0b8erow2_col9\" class=\"data row2 col9\" >10</td>\n",
       "            </tr>\n",
       "            <tr>\n",
       "                        <th id=\"T_fdc58922_f549_11eb_a890_c4b3018b0b8elevel0_row3\" class=\"row_heading level0 row3\" >GBM</th>\n",
       "                        <td id=\"T_fdc58922_f549_11eb_a890_c4b3018b0b8erow3_col0\" class=\"data row3 col0\" >10</td>\n",
       "                        <td id=\"T_fdc58922_f549_11eb_a890_c4b3018b0b8erow3_col1\" class=\"data row3 col1\" >10</td>\n",
       "                        <td id=\"T_fdc58922_f549_11eb_a890_c4b3018b0b8erow3_col2\" class=\"data row3 col2\" >10</td>\n",
       "                        <td id=\"T_fdc58922_f549_11eb_a890_c4b3018b0b8erow3_col3\" class=\"data row3 col3\" >10</td>\n",
       "                        <td id=\"T_fdc58922_f549_11eb_a890_c4b3018b0b8erow3_col4\" class=\"data row3 col4\" >10</td>\n",
       "                        <td id=\"T_fdc58922_f549_11eb_a890_c4b3018b0b8erow3_col5\" class=\"data row3 col5\" >10</td>\n",
       "                        <td id=\"T_fdc58922_f549_11eb_a890_c4b3018b0b8erow3_col6\" class=\"data row3 col6\" >10</td>\n",
       "                        <td id=\"T_fdc58922_f549_11eb_a890_c4b3018b0b8erow3_col7\" class=\"data row3 col7\" >10</td>\n",
       "                        <td id=\"T_fdc58922_f549_11eb_a890_c4b3018b0b8erow3_col8\" class=\"data row3 col8\" >10</td>\n",
       "                        <td id=\"T_fdc58922_f549_11eb_a890_c4b3018b0b8erow3_col9\" class=\"data row3 col9\" >10</td>\n",
       "            </tr>\n",
       "            <tr>\n",
       "                        <th id=\"T_fdc58922_f549_11eb_a890_c4b3018b0b8elevel0_row4\" class=\"row_heading level0 row4\" >OGB</th>\n",
       "                        <td id=\"T_fdc58922_f549_11eb_a890_c4b3018b0b8erow4_col0\" class=\"data row4 col0\" >10</td>\n",
       "                        <td id=\"T_fdc58922_f549_11eb_a890_c4b3018b0b8erow4_col1\" class=\"data row4 col1\" >10</td>\n",
       "                        <td id=\"T_fdc58922_f549_11eb_a890_c4b3018b0b8erow4_col2\" class=\"data row4 col2\" >10</td>\n",
       "                        <td id=\"T_fdc58922_f549_11eb_a890_c4b3018b0b8erow4_col3\" class=\"data row4 col3\" >10</td>\n",
       "                        <td id=\"T_fdc58922_f549_11eb_a890_c4b3018b0b8erow4_col4\" class=\"data row4 col4\" >10</td>\n",
       "                        <td id=\"T_fdc58922_f549_11eb_a890_c4b3018b0b8erow4_col5\" class=\"data row4 col5\" >10</td>\n",
       "                        <td id=\"T_fdc58922_f549_11eb_a890_c4b3018b0b8erow4_col6\" class=\"data row4 col6\" >10</td>\n",
       "                        <td id=\"T_fdc58922_f549_11eb_a890_c4b3018b0b8erow4_col7\" class=\"data row4 col7\" >10</td>\n",
       "                        <td id=\"T_fdc58922_f549_11eb_a890_c4b3018b0b8erow4_col8\" class=\"data row4 col8\" >10</td>\n",
       "                        <td id=\"T_fdc58922_f549_11eb_a890_c4b3018b0b8erow4_col9\" class=\"data row4 col9\" >10</td>\n",
       "            </tr>\n",
       "    </tbody></table>"
      ],
      "text/plain": [
       "<IPython.core.display.HTML object>"
      ]
     },
     "metadata": {},
     "output_type": "display_data"
    },
    {
     "data": {
      "text/html": [
       "<h3>K-Means</h3><style  type=\"text/css\" >\n",
       "</style><table id=\"T_fdd3e940_f549_11eb_a890_c4b3018b0b8e\" ><thead>    <tr>        <th class=\"blank level0\" ></th>        <th class=\"col_heading level0 col0\" >3</th>        <th class=\"col_heading level0 col1\" >6</th>        <th class=\"col_heading level0 col2\" >9</th>        <th class=\"col_heading level0 col3\" >12</th>        <th class=\"col_heading level0 col4\" >15</th>        <th class=\"col_heading level0 col5\" >18</th>        <th class=\"col_heading level0 col6\" >21</th>        <th class=\"col_heading level0 col7\" >24</th>        <th class=\"col_heading level0 col8\" >27</th>        <th class=\"col_heading level0 col9\" >30</th>    </tr>    <tr>        <th class=\"index_name level0\" >Model</th>        <th class=\"blank\" ></th>        <th class=\"blank\" ></th>        <th class=\"blank\" ></th>        <th class=\"blank\" ></th>        <th class=\"blank\" ></th>        <th class=\"blank\" ></th>        <th class=\"blank\" ></th>        <th class=\"blank\" ></th>        <th class=\"blank\" ></th>        <th class=\"blank\" ></th>    </tr></thead><tbody>\n",
       "                <tr>\n",
       "                        <th id=\"T_fdd3e940_f549_11eb_a890_c4b3018b0b8elevel0_row0\" class=\"row_heading level0 row0\" >BOM</th>\n",
       "                        <td id=\"T_fdd3e940_f549_11eb_a890_c4b3018b0b8erow0_col0\" class=\"data row0 col0\" >10</td>\n",
       "                        <td id=\"T_fdd3e940_f549_11eb_a890_c4b3018b0b8erow0_col1\" class=\"data row0 col1\" >10</td>\n",
       "                        <td id=\"T_fdd3e940_f549_11eb_a890_c4b3018b0b8erow0_col2\" class=\"data row0 col2\" >10</td>\n",
       "                        <td id=\"T_fdd3e940_f549_11eb_a890_c4b3018b0b8erow0_col3\" class=\"data row0 col3\" >10</td>\n",
       "                        <td id=\"T_fdd3e940_f549_11eb_a890_c4b3018b0b8erow0_col4\" class=\"data row0 col4\" >10</td>\n",
       "                        <td id=\"T_fdd3e940_f549_11eb_a890_c4b3018b0b8erow0_col5\" class=\"data row0 col5\" >10</td>\n",
       "                        <td id=\"T_fdd3e940_f549_11eb_a890_c4b3018b0b8erow0_col6\" class=\"data row0 col6\" >10</td>\n",
       "                        <td id=\"T_fdd3e940_f549_11eb_a890_c4b3018b0b8erow0_col7\" class=\"data row0 col7\" >10</td>\n",
       "                        <td id=\"T_fdd3e940_f549_11eb_a890_c4b3018b0b8erow0_col8\" class=\"data row0 col8\" >10</td>\n",
       "                        <td id=\"T_fdd3e940_f549_11eb_a890_c4b3018b0b8erow0_col9\" class=\"data row0 col9\" >10</td>\n",
       "            </tr>\n",
       "            <tr>\n",
       "                        <th id=\"T_fdd3e940_f549_11eb_a890_c4b3018b0b8elevel0_row1\" class=\"row_heading level0 row1\" >C3O</th>\n",
       "                        <td id=\"T_fdd3e940_f549_11eb_a890_c4b3018b0b8erow1_col0\" class=\"data row1 col0\" >10</td>\n",
       "                        <td id=\"T_fdd3e940_f549_11eb_a890_c4b3018b0b8erow1_col1\" class=\"data row1 col1\" >10</td>\n",
       "                        <td id=\"T_fdd3e940_f549_11eb_a890_c4b3018b0b8erow1_col2\" class=\"data row1 col2\" >10</td>\n",
       "                        <td id=\"T_fdd3e940_f549_11eb_a890_c4b3018b0b8erow1_col3\" class=\"data row1 col3\" >10</td>\n",
       "                        <td id=\"T_fdd3e940_f549_11eb_a890_c4b3018b0b8erow1_col4\" class=\"data row1 col4\" >10</td>\n",
       "                        <td id=\"T_fdd3e940_f549_11eb_a890_c4b3018b0b8erow1_col5\" class=\"data row1 col5\" >10</td>\n",
       "                        <td id=\"T_fdd3e940_f549_11eb_a890_c4b3018b0b8erow1_col6\" class=\"data row1 col6\" >10</td>\n",
       "                        <td id=\"T_fdd3e940_f549_11eb_a890_c4b3018b0b8erow1_col7\" class=\"data row1 col7\" >10</td>\n",
       "                        <td id=\"T_fdd3e940_f549_11eb_a890_c4b3018b0b8erow1_col8\" class=\"data row1 col8\" >10</td>\n",
       "                        <td id=\"T_fdd3e940_f549_11eb_a890_c4b3018b0b8erow1_col9\" class=\"data row1 col9\" >10</td>\n",
       "            </tr>\n",
       "            <tr>\n",
       "                        <th id=\"T_fdd3e940_f549_11eb_a890_c4b3018b0b8elevel0_row2\" class=\"row_heading level0 row2\" >Ernest</th>\n",
       "                        <td id=\"T_fdd3e940_f549_11eb_a890_c4b3018b0b8erow2_col0\" class=\"data row2 col0\" >10</td>\n",
       "                        <td id=\"T_fdd3e940_f549_11eb_a890_c4b3018b0b8erow2_col1\" class=\"data row2 col1\" >10</td>\n",
       "                        <td id=\"T_fdd3e940_f549_11eb_a890_c4b3018b0b8erow2_col2\" class=\"data row2 col2\" >10</td>\n",
       "                        <td id=\"T_fdd3e940_f549_11eb_a890_c4b3018b0b8erow2_col3\" class=\"data row2 col3\" >10</td>\n",
       "                        <td id=\"T_fdd3e940_f549_11eb_a890_c4b3018b0b8erow2_col4\" class=\"data row2 col4\" >10</td>\n",
       "                        <td id=\"T_fdd3e940_f549_11eb_a890_c4b3018b0b8erow2_col5\" class=\"data row2 col5\" >10</td>\n",
       "                        <td id=\"T_fdd3e940_f549_11eb_a890_c4b3018b0b8erow2_col6\" class=\"data row2 col6\" >10</td>\n",
       "                        <td id=\"T_fdd3e940_f549_11eb_a890_c4b3018b0b8erow2_col7\" class=\"data row2 col7\" >10</td>\n",
       "                        <td id=\"T_fdd3e940_f549_11eb_a890_c4b3018b0b8erow2_col8\" class=\"data row2 col8\" >10</td>\n",
       "                        <td id=\"T_fdd3e940_f549_11eb_a890_c4b3018b0b8erow2_col9\" class=\"data row2 col9\" >10</td>\n",
       "            </tr>\n",
       "            <tr>\n",
       "                        <th id=\"T_fdd3e940_f549_11eb_a890_c4b3018b0b8elevel0_row3\" class=\"row_heading level0 row3\" >GBM</th>\n",
       "                        <td id=\"T_fdd3e940_f549_11eb_a890_c4b3018b0b8erow3_col0\" class=\"data row3 col0\" >10</td>\n",
       "                        <td id=\"T_fdd3e940_f549_11eb_a890_c4b3018b0b8erow3_col1\" class=\"data row3 col1\" >10</td>\n",
       "                        <td id=\"T_fdd3e940_f549_11eb_a890_c4b3018b0b8erow3_col2\" class=\"data row3 col2\" >10</td>\n",
       "                        <td id=\"T_fdd3e940_f549_11eb_a890_c4b3018b0b8erow3_col3\" class=\"data row3 col3\" >10</td>\n",
       "                        <td id=\"T_fdd3e940_f549_11eb_a890_c4b3018b0b8erow3_col4\" class=\"data row3 col4\" >10</td>\n",
       "                        <td id=\"T_fdd3e940_f549_11eb_a890_c4b3018b0b8erow3_col5\" class=\"data row3 col5\" >10</td>\n",
       "                        <td id=\"T_fdd3e940_f549_11eb_a890_c4b3018b0b8erow3_col6\" class=\"data row3 col6\" >10</td>\n",
       "                        <td id=\"T_fdd3e940_f549_11eb_a890_c4b3018b0b8erow3_col7\" class=\"data row3 col7\" >10</td>\n",
       "                        <td id=\"T_fdd3e940_f549_11eb_a890_c4b3018b0b8erow3_col8\" class=\"data row3 col8\" >10</td>\n",
       "                        <td id=\"T_fdd3e940_f549_11eb_a890_c4b3018b0b8erow3_col9\" class=\"data row3 col9\" >10</td>\n",
       "            </tr>\n",
       "            <tr>\n",
       "                        <th id=\"T_fdd3e940_f549_11eb_a890_c4b3018b0b8elevel0_row4\" class=\"row_heading level0 row4\" >OGB</th>\n",
       "                        <td id=\"T_fdd3e940_f549_11eb_a890_c4b3018b0b8erow4_col0\" class=\"data row4 col0\" >10</td>\n",
       "                        <td id=\"T_fdd3e940_f549_11eb_a890_c4b3018b0b8erow4_col1\" class=\"data row4 col1\" >10</td>\n",
       "                        <td id=\"T_fdd3e940_f549_11eb_a890_c4b3018b0b8erow4_col2\" class=\"data row4 col2\" >10</td>\n",
       "                        <td id=\"T_fdd3e940_f549_11eb_a890_c4b3018b0b8erow4_col3\" class=\"data row4 col3\" >10</td>\n",
       "                        <td id=\"T_fdd3e940_f549_11eb_a890_c4b3018b0b8erow4_col4\" class=\"data row4 col4\" >10</td>\n",
       "                        <td id=\"T_fdd3e940_f549_11eb_a890_c4b3018b0b8erow4_col5\" class=\"data row4 col5\" >10</td>\n",
       "                        <td id=\"T_fdd3e940_f549_11eb_a890_c4b3018b0b8erow4_col6\" class=\"data row4 col6\" >10</td>\n",
       "                        <td id=\"T_fdd3e940_f549_11eb_a890_c4b3018b0b8erow4_col7\" class=\"data row4 col7\" >10</td>\n",
       "                        <td id=\"T_fdd3e940_f549_11eb_a890_c4b3018b0b8erow4_col8\" class=\"data row4 col8\" >10</td>\n",
       "                        <td id=\"T_fdd3e940_f549_11eb_a890_c4b3018b0b8erow4_col9\" class=\"data row4 col9\" >10</td>\n",
       "            </tr>\n",
       "    </tbody></table>"
      ],
      "text/plain": [
       "<IPython.core.display.HTML object>"
      ]
     },
     "metadata": {},
     "output_type": "display_data"
    },
    {
     "data": {
      "text/html": [
       "<h3>Page Rank</h3><style  type=\"text/css\" >\n",
       "</style><table id=\"T_fde028f4_f549_11eb_a890_c4b3018b0b8e\" ><thead>    <tr>        <th class=\"blank level0\" ></th>        <th class=\"col_heading level0 col0\" >3</th>        <th class=\"col_heading level0 col1\" >6</th>        <th class=\"col_heading level0 col2\" >9</th>        <th class=\"col_heading level0 col3\" >12</th>        <th class=\"col_heading level0 col4\" >15</th>        <th class=\"col_heading level0 col5\" >18</th>        <th class=\"col_heading level0 col6\" >21</th>        <th class=\"col_heading level0 col7\" >24</th>        <th class=\"col_heading level0 col8\" >27</th>        <th class=\"col_heading level0 col9\" >30</th>    </tr>    <tr>        <th class=\"index_name level0\" >Model</th>        <th class=\"blank\" ></th>        <th class=\"blank\" ></th>        <th class=\"blank\" ></th>        <th class=\"blank\" ></th>        <th class=\"blank\" ></th>        <th class=\"blank\" ></th>        <th class=\"blank\" ></th>        <th class=\"blank\" ></th>        <th class=\"blank\" ></th>        <th class=\"blank\" ></th>    </tr></thead><tbody>\n",
       "                <tr>\n",
       "                        <th id=\"T_fde028f4_f549_11eb_a890_c4b3018b0b8elevel0_row0\" class=\"row_heading level0 row0\" >BOM</th>\n",
       "                        <td id=\"T_fde028f4_f549_11eb_a890_c4b3018b0b8erow0_col0\" class=\"data row0 col0\" >10</td>\n",
       "                        <td id=\"T_fde028f4_f549_11eb_a890_c4b3018b0b8erow0_col1\" class=\"data row0 col1\" >10</td>\n",
       "                        <td id=\"T_fde028f4_f549_11eb_a890_c4b3018b0b8erow0_col2\" class=\"data row0 col2\" >10</td>\n",
       "                        <td id=\"T_fde028f4_f549_11eb_a890_c4b3018b0b8erow0_col3\" class=\"data row0 col3\" >10</td>\n",
       "                        <td id=\"T_fde028f4_f549_11eb_a890_c4b3018b0b8erow0_col4\" class=\"data row0 col4\" >10</td>\n",
       "                        <td id=\"T_fde028f4_f549_11eb_a890_c4b3018b0b8erow0_col5\" class=\"data row0 col5\" >10</td>\n",
       "                        <td id=\"T_fde028f4_f549_11eb_a890_c4b3018b0b8erow0_col6\" class=\"data row0 col6\" >10</td>\n",
       "                        <td id=\"T_fde028f4_f549_11eb_a890_c4b3018b0b8erow0_col7\" class=\"data row0 col7\" >10</td>\n",
       "                        <td id=\"T_fde028f4_f549_11eb_a890_c4b3018b0b8erow0_col8\" class=\"data row0 col8\" >10</td>\n",
       "                        <td id=\"T_fde028f4_f549_11eb_a890_c4b3018b0b8erow0_col9\" class=\"data row0 col9\" >10</td>\n",
       "            </tr>\n",
       "            <tr>\n",
       "                        <th id=\"T_fde028f4_f549_11eb_a890_c4b3018b0b8elevel0_row1\" class=\"row_heading level0 row1\" >C3O</th>\n",
       "                        <td id=\"T_fde028f4_f549_11eb_a890_c4b3018b0b8erow1_col0\" class=\"data row1 col0\" >10</td>\n",
       "                        <td id=\"T_fde028f4_f549_11eb_a890_c4b3018b0b8erow1_col1\" class=\"data row1 col1\" >10</td>\n",
       "                        <td id=\"T_fde028f4_f549_11eb_a890_c4b3018b0b8erow1_col2\" class=\"data row1 col2\" >10</td>\n",
       "                        <td id=\"T_fde028f4_f549_11eb_a890_c4b3018b0b8erow1_col3\" class=\"data row1 col3\" >10</td>\n",
       "                        <td id=\"T_fde028f4_f549_11eb_a890_c4b3018b0b8erow1_col4\" class=\"data row1 col4\" >10</td>\n",
       "                        <td id=\"T_fde028f4_f549_11eb_a890_c4b3018b0b8erow1_col5\" class=\"data row1 col5\" >10</td>\n",
       "                        <td id=\"T_fde028f4_f549_11eb_a890_c4b3018b0b8erow1_col6\" class=\"data row1 col6\" >10</td>\n",
       "                        <td id=\"T_fde028f4_f549_11eb_a890_c4b3018b0b8erow1_col7\" class=\"data row1 col7\" >10</td>\n",
       "                        <td id=\"T_fde028f4_f549_11eb_a890_c4b3018b0b8erow1_col8\" class=\"data row1 col8\" >10</td>\n",
       "                        <td id=\"T_fde028f4_f549_11eb_a890_c4b3018b0b8erow1_col9\" class=\"data row1 col9\" >10</td>\n",
       "            </tr>\n",
       "            <tr>\n",
       "                        <th id=\"T_fde028f4_f549_11eb_a890_c4b3018b0b8elevel0_row2\" class=\"row_heading level0 row2\" >Ernest</th>\n",
       "                        <td id=\"T_fde028f4_f549_11eb_a890_c4b3018b0b8erow2_col0\" class=\"data row2 col0\" >10</td>\n",
       "                        <td id=\"T_fde028f4_f549_11eb_a890_c4b3018b0b8erow2_col1\" class=\"data row2 col1\" >10</td>\n",
       "                        <td id=\"T_fde028f4_f549_11eb_a890_c4b3018b0b8erow2_col2\" class=\"data row2 col2\" >10</td>\n",
       "                        <td id=\"T_fde028f4_f549_11eb_a890_c4b3018b0b8erow2_col3\" class=\"data row2 col3\" >10</td>\n",
       "                        <td id=\"T_fde028f4_f549_11eb_a890_c4b3018b0b8erow2_col4\" class=\"data row2 col4\" >10</td>\n",
       "                        <td id=\"T_fde028f4_f549_11eb_a890_c4b3018b0b8erow2_col5\" class=\"data row2 col5\" >10</td>\n",
       "                        <td id=\"T_fde028f4_f549_11eb_a890_c4b3018b0b8erow2_col6\" class=\"data row2 col6\" >10</td>\n",
       "                        <td id=\"T_fde028f4_f549_11eb_a890_c4b3018b0b8erow2_col7\" class=\"data row2 col7\" >10</td>\n",
       "                        <td id=\"T_fde028f4_f549_11eb_a890_c4b3018b0b8erow2_col8\" class=\"data row2 col8\" >10</td>\n",
       "                        <td id=\"T_fde028f4_f549_11eb_a890_c4b3018b0b8erow2_col9\" class=\"data row2 col9\" >10</td>\n",
       "            </tr>\n",
       "            <tr>\n",
       "                        <th id=\"T_fde028f4_f549_11eb_a890_c4b3018b0b8elevel0_row3\" class=\"row_heading level0 row3\" >GBM</th>\n",
       "                        <td id=\"T_fde028f4_f549_11eb_a890_c4b3018b0b8erow3_col0\" class=\"data row3 col0\" >10</td>\n",
       "                        <td id=\"T_fde028f4_f549_11eb_a890_c4b3018b0b8erow3_col1\" class=\"data row3 col1\" >10</td>\n",
       "                        <td id=\"T_fde028f4_f549_11eb_a890_c4b3018b0b8erow3_col2\" class=\"data row3 col2\" >10</td>\n",
       "                        <td id=\"T_fde028f4_f549_11eb_a890_c4b3018b0b8erow3_col3\" class=\"data row3 col3\" >10</td>\n",
       "                        <td id=\"T_fde028f4_f549_11eb_a890_c4b3018b0b8erow3_col4\" class=\"data row3 col4\" >10</td>\n",
       "                        <td id=\"T_fde028f4_f549_11eb_a890_c4b3018b0b8erow3_col5\" class=\"data row3 col5\" >10</td>\n",
       "                        <td id=\"T_fde028f4_f549_11eb_a890_c4b3018b0b8erow3_col6\" class=\"data row3 col6\" >10</td>\n",
       "                        <td id=\"T_fde028f4_f549_11eb_a890_c4b3018b0b8erow3_col7\" class=\"data row3 col7\" >10</td>\n",
       "                        <td id=\"T_fde028f4_f549_11eb_a890_c4b3018b0b8erow3_col8\" class=\"data row3 col8\" >10</td>\n",
       "                        <td id=\"T_fde028f4_f549_11eb_a890_c4b3018b0b8erow3_col9\" class=\"data row3 col9\" >10</td>\n",
       "            </tr>\n",
       "            <tr>\n",
       "                        <th id=\"T_fde028f4_f549_11eb_a890_c4b3018b0b8elevel0_row4\" class=\"row_heading level0 row4\" >OGB</th>\n",
       "                        <td id=\"T_fde028f4_f549_11eb_a890_c4b3018b0b8erow4_col0\" class=\"data row4 col0\" >10</td>\n",
       "                        <td id=\"T_fde028f4_f549_11eb_a890_c4b3018b0b8erow4_col1\" class=\"data row4 col1\" >10</td>\n",
       "                        <td id=\"T_fde028f4_f549_11eb_a890_c4b3018b0b8erow4_col2\" class=\"data row4 col2\" >10</td>\n",
       "                        <td id=\"T_fde028f4_f549_11eb_a890_c4b3018b0b8erow4_col3\" class=\"data row4 col3\" >10</td>\n",
       "                        <td id=\"T_fde028f4_f549_11eb_a890_c4b3018b0b8erow4_col4\" class=\"data row4 col4\" >10</td>\n",
       "                        <td id=\"T_fde028f4_f549_11eb_a890_c4b3018b0b8erow4_col5\" class=\"data row4 col5\" >10</td>\n",
       "                        <td id=\"T_fde028f4_f549_11eb_a890_c4b3018b0b8erow4_col6\" class=\"data row4 col6\" >10</td>\n",
       "                        <td id=\"T_fde028f4_f549_11eb_a890_c4b3018b0b8erow4_col7\" class=\"data row4 col7\" >10</td>\n",
       "                        <td id=\"T_fde028f4_f549_11eb_a890_c4b3018b0b8erow4_col8\" class=\"data row4 col8\" >10</td>\n",
       "                        <td id=\"T_fde028f4_f549_11eb_a890_c4b3018b0b8erow4_col9\" class=\"data row4 col9\" >10</td>\n",
       "            </tr>\n",
       "    </tbody></table>"
      ],
      "text/plain": [
       "<IPython.core.display.HTML object>"
      ]
     },
     "metadata": {},
     "output_type": "display_data"
    }
   ],
   "source": [
    "for job in jobs:\n",
    "    display_evaluation_counts(job.name)"
   ]
  },
  {
   "cell_type": "code",
   "execution_count": 18,
   "metadata": {},
   "outputs": [
    {
     "name": "stdout",
     "output_type": "stream",
     "text": [
      "Training Data        3         6         9         12        15        18  \\\n",
      "Model                                                                       \n",
      "BOM            0.492564  0.231769  0.357843  0.146459  0.128268  0.075388   \n",
      "C3O            0.119391  0.086188  0.066051  0.081600  0.060469  0.057333   \n",
      "Ernest         0.104754  0.079367  0.064587  0.060063  0.059308  0.057333   \n",
      "GBM            0.365913  0.304362  0.171505  0.183605  0.134558  0.085243   \n",
      "OGB            0.414994  0.333455  0.253671  0.185632  0.235760  0.169587   \n",
      "\n",
      "Training Data        21        24        27        30  \n",
      "Model                                                  \n",
      "BOM            0.082850  0.065741  0.066366  0.062015  \n",
      "C3O            0.059698  0.039398  0.038916  0.042081  \n",
      "Ernest         0.061820  0.051392  0.053952  0.055369  \n",
      "GBM            0.076575  0.065362  0.061972  0.057427  \n",
      "OGB            0.162800  0.110477  0.085275  0.031093  \n",
      "Training Data        3         6         9         12        15        18  \\\n",
      "Model                                                                       \n",
      "BOM            1.324812  0.325363  0.294190  0.253871  0.229265  0.219651   \n",
      "C3O            0.450141  0.338076  0.363269  0.257425  0.208577  0.186324   \n",
      "Ernest         0.513262  0.489207  0.414370  0.462557  0.415037  0.421244   \n",
      "GBM            0.509568  0.377233  0.417826  0.257442  0.208630  0.182194   \n",
      "OGB            0.541604  0.370731  0.405599  0.311239  0.299354  0.290695   \n",
      "\n",
      "Training Data        21        24        27        30  \n",
      "Model                                                  \n",
      "BOM            0.552131  0.222657  0.212783  9.805494  \n",
      "C3O            0.170473  0.143855  0.139133  0.125495  \n",
      "Ernest         0.426247  0.400170  0.407832  0.408248  \n",
      "GBM            0.157579  0.136314  0.147292  0.126241  \n",
      "OGB            0.331020  0.261287  0.241142  0.221828  \n",
      "Training Data        3         6         9         12        15        18  \\\n",
      "Model                                                                       \n",
      "BOM            0.444426  0.860876  0.346908  0.297321  0.236442  0.211807   \n",
      "C3O            0.324895  0.324372  0.254184  0.245563  0.242612  0.194816   \n",
      "Ernest         0.261339  0.271273  0.237732  0.237177  0.226932  0.227144   \n",
      "GBM            0.388282  0.353028  0.298333  0.291042  0.207534  0.207200   \n",
      "OGB            0.387202  0.443566  0.322868  0.344786  0.314229  0.274663   \n",
      "\n",
      "Training Data        21        24        27        30  \n",
      "Model                                                  \n",
      "BOM            0.190437  0.191646  0.174867  0.153882  \n",
      "C3O            0.180626  0.170056  0.157953  0.143126  \n",
      "Ernest         0.232433  0.221268  0.229332  0.219642  \n",
      "GBM            0.177516  0.148524  0.147708  0.133938  \n",
      "OGB            0.266066  0.254916  0.220948  0.190313  \n",
      "Training Data        3         6         9         12        15        18  \\\n",
      "Model                                                                       \n",
      "BOM            0.678251  0.387738  0.313898  0.244786  0.188011  0.186896   \n",
      "C3O            0.313896  0.227641  0.202670  0.166616  0.169994  0.146595   \n",
      "Ernest         0.237209  0.185919  0.168565  0.158070  0.164122  0.162624   \n",
      "GBM            0.362076  0.218687  0.214442  0.183418  0.170233  0.145098   \n",
      "OGB            0.482830  0.374226  0.371254  0.380668  0.284596  0.304523   \n",
      "\n",
      "Training Data        21        24        27        30  \n",
      "Model                                                  \n",
      "BOM            0.157320  0.167911  0.139387  0.139924  \n",
      "C3O            0.132217  0.117897  0.120202  0.101766  \n",
      "Ernest         0.166135  0.159381  0.148268  0.157698  \n",
      "GBM            0.131769  0.114281  0.114886  0.099761  \n",
      "OGB            0.244286  0.222566  0.214547  0.270896  \n",
      "Training Data        3         6         9         12        15        18  \\\n",
      "Model                                                                       \n",
      "BOM            0.527930  0.268577  0.267314  0.189808  0.177387  0.173446   \n",
      "C3O            0.484714  0.413668  0.289704  0.211023  0.200321  0.163855   \n",
      "Ernest         0.492135  0.479499  0.429524  0.366878  0.343099  0.364882   \n",
      "GBM            0.389368  0.415425  0.354725  0.238366  0.221678  0.216114   \n",
      "OGB            0.366600  0.339054  0.287160  0.201563  0.217912  0.148299   \n",
      "\n",
      "Training Data        21        24        27        30  \n",
      "Model                                                  \n",
      "BOM            0.191145  0.163787  0.176808  0.171869  \n",
      "C3O            0.153386  0.135862  0.139380  0.122476  \n",
      "Ernest         0.353167  0.368943  0.368907  0.364877  \n",
      "GBM            0.154394  0.147300  0.151215  0.126474  \n",
      "OGB            0.141432  0.121435  0.139394  0.116209  \n"
     ]
    },
    {
     "data": {
      "image/png": "[encoded data removed]",
      "text/plain": [
       "<Figure size 576x576 with 5 Axes>"
      ]
     },
     "metadata": {
      "needs_background": "light"
     },
     "output_type": "display_data"
    }
   ],
   "source": [
    "ff = 'DejaVu Sans'\n",
    "ff = 'DejaVu Serif'\n",
    "matplotlib.rc('font', family=ff)\n",
    "\n",
    "model_names = list(map(lambda m:m.name, models))\n",
    "\n",
    "colors = ['tab:blue', 'tab:green', 'red', 'tab:orange', 'black']\n",
    "\n",
    "plt.figure(figsize=(8,8))\n",
    "for i, job in enumerate(jobs):\n",
    "    results = read_results(job.name)\n",
    "    plt.subplot(3,2,i+1)\n",
    "    plt.title(job.name, fontsize=17)\n",
    "    for j, model_name in enumerate(model_names):\n",
    "        y = results.loc[model_name][:]\n",
    "        x =  results.loc[model_name].keys()\n",
    "        line = plt.plot(x, y, '--' if model_name=='C3O' else '-', label=model_name, color=colors[j])\n",
    "            \n",
    "        plt.xlabel('Available Training Data', fontsize=15)\n",
    "        plt.ylabel('MAPE', fontsize=15)\n",
    "        \n",
    "        plt.ylim(0, .8)\n",
    "\n",
    "plt.figlegend(model_names, fontsize=15, loc='lower center', ncol=1, bbox_to_anchor=[0.78, +.07], \n",
    "              bbox_transform=plt.gcf().transFigure)\n",
    "plt.tight_layout()\n",
    "plt.savefig('availability.pdf', bbox_inches='tight')\n",
    "plt.show()"
   ]
  },
  {
   "cell_type": "code",
   "execution_count": null,
   "metadata": {},
   "outputs": [],
   "source": []
  },
  {
   "cell_type": "code",
   "execution_count": null,
   "metadata": {},
   "outputs": [],
   "source": []
  },
  {
   "cell_type": "code",
   "execution_count": null,
   "metadata": {},
   "outputs": [],
   "source": []
  }
 ],
 "metadata": {
  "kernelspec": {
   "display_name": "Python 3",
   "language": "python",
   "name": "python3"
  },
  "language_info": {
   "codemirror_mode": {
    "name": "ipython",
    "version": 3
   },
   "file_extension": ".py",
   "mimetype": "text/x-python",
   "name": "python",
   "nbconvert_exporter": "python",
   "pygments_lexer": "ipython3",
   "version": "3.7.6"
  }
 },
 "nbformat": 4,
 "nbformat_minor": 4
}
